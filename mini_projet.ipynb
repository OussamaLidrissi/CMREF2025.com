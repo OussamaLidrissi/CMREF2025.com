{
  "nbformat": 4,
  "nbformat_minor": 0,
  "metadata": {
    "colab": {
      "provenance": [],
      "authorship_tag": "ABX9TyNeuLZgcnoCON8Q7I1zNnru",
      "include_colab_link": true
    },
    "kernelspec": {
      "name": "python3",
      "display_name": "Python 3"
    },
    "language_info": {
      "name": "python"
    }
  },
  "cells": [
    {
      "cell_type": "markdown",
      "metadata": {
        "id": "view-in-github",
        "colab_type": "text"
      },
      "source": [
        "<a href=\"https://colab.research.google.com/github/OussamaLidrissi/CMREF2025.com/blob/main/mini_projet.ipynb\" target=\"_parent\"><img src=\"https://colab.research.google.com/assets/colab-badge.svg\" alt=\"Open In Colab\"/></a>"
      ]
    },
    {
      "cell_type": "code",
      "execution_count": null,
      "metadata": {
        "colab": {
          "base_uri": "https://localhost:8080/"
        },
        "id": "ONsffQS7dkra",
        "outputId": "b4515942-c818-42d5-ab59-9653cd4012d2"
      },
      "outputs": [
        {
          "output_type": "stream",
          "name": "stdout",
          "text": [
            "oussa a emprunté Le dernier jour d'un condamné\n",
            "Le dernier jour d'un condamné est déjà emprunté.\n",
            "Le dernier jour d'un condamné de Victor hugo - Emprunté\n",
            "Pyth de Michael Driscoll - Disponible\n",
            "test de oussama - Disponible\n",
            "Livre 'test' supprimé.\n",
            "Le dernier jour d'un condamné de Victor hugo - Emprunté\n",
            "Pyth de Michael Driscoll - Disponible\n"
          ]
        }
      ],
      "source": [
        "class Livre:\n",
        "    def __init__(self, titre, auteur):\n",
        "        self.titre = titre\n",
        "        self.auteur = auteur\n",
        "        self.est_emprunte = False\n",
        "\n",
        "    def emprunter(self):\n",
        "        if not self.est_emprunte:\n",
        "            self.est_emprunte = True\n",
        "            return True\n",
        "        return False\n",
        "\n",
        "    def rendre(self):\n",
        "        self.est_emprunte = False\n",
        "\n",
        "class Membre:\n",
        "    def __init__(self, nom):\n",
        "        self.nom = nom\n",
        "\n",
        "    def emprunter_livre(self, livre):\n",
        "        if livre.emprunter():\n",
        "            print(f\"{self.nom} a emprunté {livre.titre}\")\n",
        "        else:\n",
        "            print(f\"{livre.titre} est déjà emprunté.\")\n",
        "\n",
        "class Bibliotheque:\n",
        "    def __init__(self):\n",
        "        self.livres = []\n",
        "\n",
        "    def ajouter_livre(self, livre):\n",
        "        self.livres.append(livre)\n",
        "\n",
        "    def afficher_livres(self):\n",
        "        for livre in self.livres:\n",
        "            statut = \"Disponible\" if not livre.est_emprunte else \"Emprunté\"\n",
        "            print(f\"{livre.titre} de {livre.auteur} - {statut}\")\n",
        "\n",
        "    def supprimer_livre(self, titre):\n",
        "        for livre in self.livres:\n",
        "            if livre.titre == titre:\n",
        "                self.livres.remove(livre)\n",
        "                print(f\"Livre '{titre}' supprimé.\")\n",
        "                return\n",
        "        print(f\"Livre '{titre}' introuvable.\")\n",
        "\n",
        "# Exemple d’utilisation\n",
        "biblio = Bibliotheque()\n",
        "livre1 = Livre(\"Le dernier jour d'un condamné\", \"Victor hugo\")\n",
        "livre2 = Livre(\"Pyth\", \"Michael Driscoll\")\n",
        "livre3 = Livre(\"test\",\"oussama\")\n",
        "\n",
        "biblio.ajouter_livre(livre1)\n",
        "biblio.ajouter_livre(livre2)\n",
        "biblio.ajouter_livre(livre3)\n",
        "\n",
        "membre = Membre(\"oussa\")\n",
        "membre.emprunter_livre(livre1)\n",
        "membre.emprunter_livre(livre1)\n",
        "\n",
        "biblio.afficher_livres()\n",
        "\n",
        "biblio.supprimer_livre(\"test\")\n",
        "biblio.afficher_livres()\n"
      ]
    }
  ]
}